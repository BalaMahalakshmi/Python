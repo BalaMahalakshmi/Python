{
 "cells": [
  {
   "cell_type": "code",
   "execution_count": 39,
   "id": "6dcd8078",
   "metadata": {},
   "outputs": [],
   "source": [
    "import pandas as pd\n"
   ]
  },
  {
   "cell_type": "code",
   "execution_count": 41,
   "id": "3a3f3067",
   "metadata": {},
   "outputs": [
    {
     "name": "stdout",
     "output_type": "stream",
     "text": [
      "           DATE  LATITUDE  LONGITUDE    SNOW  PRCP    SNWD  TAVG  TMAX  TMIN\n",
      "0      20160101  41.06390  -73.77220     0.0  0.00 -9999.0 -9999 -9999 -9999\n",
      "1      20160102  41.06390  -73.77220     0.0  0.00 -9999.0 -9999 -9999 -9999\n",
      "2      20160103  41.06390  -73.77220     0.0  0.00 -9999.0 -9999 -9999 -9999\n",
      "3      20160104  41.06390  -73.77220     0.0  0.00 -9999.0 -9999 -9999 -9999\n",
      "4      20160105  41.06390  -73.77220     0.0  0.00 -9999.0 -9999 -9999 -9999\n",
      "...         ...       ...        ...     ...   ...     ...   ...   ...   ...\n",
      "32202  20170709  40.73417  -73.41694 -9999.0  0.00 -9999.0 -9999    82    67\n",
      "32203  20170710  40.73417  -73.41694 -9999.0  0.00 -9999.0 -9999    81    64\n",
      "32204  20170711  40.73417  -73.41694 -9999.0  0.06 -9999.0 -9999    86    74\n",
      "32205  20170712  40.73417  -73.41694 -9999.0  0.00 -9999.0 -9999    90    74\n",
      "32206  20170713  40.73417  -73.41694 -9999.0  0.01 -9999.0 -9999    91    68\n",
      "\n",
      "[32207 rows x 9 columns]\n"
     ]
    }
   ],
   "source": [
    "df = pd.read_csv(r'C:\\Users\\balam\\Downloads\\weather_dataset\\nyc_Jan_Jun_2016_weat.csv')\n",
    "print(df)\n"
   ]
  },
  {
   "cell_type": "code",
   "execution_count": 42,
   "id": "96426f17",
   "metadata": {},
   "outputs": [
    {
     "data": {
      "text/plain": [
       "np.float64(-73.3722)"
      ]
     },
     "execution_count": 42,
     "metadata": {},
     "output_type": "execute_result"
    }
   ],
   "source": [
    "df['LONGITUDE'].max()"
   ]
  },
  {
   "cell_type": "code",
   "execution_count": 43,
   "id": "574cc2d3",
   "metadata": {},
   "outputs": [
    {
     "data": {
      "text/plain": [
       "1016     20160419\n",
       "1059     20160601\n",
       "1061     20160603\n",
       "1071     20160613\n",
       "1082     20160624\n",
       "           ...   \n",
       "31913    20160923\n",
       "32118    20170416\n",
       "32173    20170610\n",
       "32198    20170705\n",
       "32202    20170709\n",
       "Name: DATE, Length: 126, dtype: int64"
      ]
     },
     "execution_count": 43,
     "metadata": {},
     "output_type": "execute_result"
    }
   ],
   "source": [
    "df['DATE'][df['TMAX']== 82]"
   ]
  },
  {
   "cell_type": "code",
   "execution_count": 45,
   "id": "3dabed63",
   "metadata": {},
   "outputs": [
    {
     "data": {
      "text/plain": [
       "np.float64(-4263.479085292018)"
      ]
     },
     "execution_count": 45,
     "metadata": {},
     "output_type": "execute_result"
    }
   ],
   "source": [
    "df['SNOW'].mean()"
   ]
  },
  {
   "cell_type": "code",
   "execution_count": null,
   "id": "f39edcfc",
   "metadata": {},
   "outputs": [],
   "source": []
  }
 ],
 "metadata": {
  "kernelspec": {
   "display_name": "myfilepy",
   "language": "python",
   "name": "python3"
  },
  "language_info": {
   "codemirror_mode": {
    "name": "ipython",
    "version": 3
   },
   "file_extension": ".py",
   "mimetype": "text/x-python",
   "name": "python",
   "nbconvert_exporter": "python",
   "pygments_lexer": "ipython3",
   "version": "3.13.5"
  }
 },
 "nbformat": 4,
 "nbformat_minor": 5
}
