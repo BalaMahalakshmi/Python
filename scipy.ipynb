{
 "cells": [
  {
   "cell_type": "code",
   "execution_count": 2,
   "id": "325f85c4",
   "metadata": {},
   "outputs": [
    {
     "name": "stdout",
     "output_type": "stream",
     "text": [
      "1.16.0\n"
     ]
    }
   ],
   "source": [
    "import scipy\n",
    "print(scipy.__version__)"
   ]
  },
  {
   "cell_type": "markdown",
   "id": "ee66c27b",
   "metadata": {},
   "source": [
    "CONSTANT VALUE like pi"
   ]
  },
  {
   "cell_type": "code",
   "execution_count": 3,
   "id": "7290967c",
   "metadata": {},
   "outputs": [
    {
     "name": "stdout",
     "output_type": "stream",
     "text": [
      "3.141592653589793\n"
     ]
    }
   ],
   "source": [
    "from scipy import constants\n",
    "print(constants.pi)"
   ]
  },
  {
   "cell_type": "markdown",
   "id": "40b8da72",
   "metadata": {},
   "source": [
    "using dir() #gets all constant unit "
   ]
  },
  {
   "cell_type": "code",
   "execution_count": 4,
   "id": "ca7e9685",
   "metadata": {},
   "outputs": [
    {
     "name": "stdout",
     "output_type": "stream",
     "text": [
      "['Avogadro', 'Boltzmann', 'Btu', 'Btu_IT', 'Btu_th', 'ConstantWarning', 'G', 'Julian_year', 'N_A', 'Planck', 'R', 'Rydberg', 'Stefan_Boltzmann', 'Wien', '__all__', '__builtins__', '__cached__', '__doc__', '__file__', '__loader__', '__name__', '__package__', '__path__', '__spec__', '_codata', '_constants', '_obsolete_constants', 'acre', 'alpha', 'angstrom', 'arcmin', 'arcminute', 'arcsec', 'arcsecond', 'astronomical_unit', 'atm', 'atmosphere', 'atomic_mass', 'atto', 'au', 'bar', 'barrel', 'bbl', 'blob', 'c', 'calorie', 'calorie_IT', 'calorie_th', 'carat', 'centi', 'codata', 'constants', 'convert_temperature', 'day', 'deci', 'degree', 'degree_Fahrenheit', 'deka', 'dyn', 'dyne', 'e', 'eV', 'electron_mass', 'electron_volt', 'elementary_charge', 'epsilon_0', 'erg', 'exa', 'exbi', 'femto', 'fermi', 'find', 'fine_structure', 'fluid_ounce', 'fluid_ounce_US', 'fluid_ounce_imp', 'foot', 'g', 'gallon', 'gallon_US', 'gallon_imp', 'gas_constant', 'gibi', 'giga', 'golden', 'golden_ratio', 'grain', 'gram', 'gravitational_constant', 'h', 'hbar', 'hectare', 'hecto', 'horsepower', 'hour', 'hp', 'inch', 'k', 'kgf', 'kibi', 'kilo', 'kilogram_force', 'kmh', 'knot', 'lambda2nu', 'lb', 'lbf', 'light_year', 'liter', 'litre', 'long_ton', 'm_e', 'm_n', 'm_p', 'm_u', 'mach', 'mebi', 'mega', 'metric_ton', 'micro', 'micron', 'mil', 'mile', 'milli', 'minute', 'mmHg', 'mph', 'mu_0', 'nano', 'nautical_mile', 'neutron_mass', 'nu2lambda', 'ounce', 'oz', 'parsec', 'pebi', 'peta', 'physical_constants', 'pi', 'pico', 'point', 'pound', 'pound_force', 'precision', 'proton_mass', 'psi', 'pt', 'quecto', 'quetta', 'ronna', 'ronto', 'short_ton', 'sigma', 'slinch', 'slug', 'speed_of_light', 'speed_of_sound', 'stone', 'survey_foot', 'survey_mile', 'tebi', 'tera', 'test', 'ton_TNT', 'torr', 'troy_ounce', 'troy_pound', 'u', 'unit', 'value', 'week', 'yard', 'year', 'yobi', 'yocto', 'yotta', 'zebi', 'zepto', 'zero_Celsius', 'zetta']\n"
     ]
    }
   ],
   "source": [
    "print(dir(constants))"
   ]
  },
  {
   "cell_type": "markdown",
   "id": "4cbc66a3",
   "metadata": {},
   "source": [
    "#metrics (SI) prefixes"
   ]
  },
  {
   "cell_type": "code",
   "execution_count": 6,
   "id": "03c3569f",
   "metadata": {},
   "outputs": [
    {
     "name": "stdout",
     "output_type": "stream",
     "text": [
      "1e+24\n",
      "1e+21\n",
      "1e+18\n",
      "1000000000000000.0\n",
      "1000000000000.0\n",
      "1000000000.0\n",
      "1000000.0\n",
      "1000.0\n",
      "100.0\n",
      "10.0\n",
      "0.1\n",
      "0.01\n",
      "0.001\n",
      "1e-06\n",
      "1e-09\n",
      "1e-12\n",
      "1e-15\n",
      "1e-18\n",
      "1e-21\n"
     ]
    }
   ],
   "source": [
    "print(constants.yotta) #1e+24\n",
    "print(constants.zetta) #1e+21\n",
    "print(constants.exa) #1e+18\n",
    "print(constants.peta) #1000000000000000.0\n",
    "print(constants.tera) #10000000000000.0\n",
    "print(constants.giga) #1000000000.0\n",
    "print(constants.mega) #1000000.0\n",
    "print(constants.kilo) #1000.0\n",
    "print(constants.hecto) #100.0\n",
    "print(constants.deka) #10.0\n",
    "print(constants.deci) #0.1\n",
    "print(constants.centi) #0.01\n",
    "print(constants.milli) #0.001\n",
    "print(constants.micro) #1e-06\n",
    "print(constants.nano) #1e-09\n",
    "print(constants.pico) #1e-12\n",
    "print(constants.femto) #1e-15\n",
    "print(constants.atto) #1e-18\n",
    "print(constants.zepto) #1e-21\n"
   ]
  },
  {
   "cell_type": "markdown",
   "id": "92637168",
   "metadata": {},
   "source": [
    "#binary prefixes"
   ]
  },
  {
   "cell_type": "code",
   "execution_count": 7,
   "id": "e3bcc1ad",
   "metadata": {},
   "outputs": [
    {
     "name": "stdout",
     "output_type": "stream",
     "text": [
      "1024\n",
      "1048576\n",
      "1073741824\n",
      "1099511627776\n",
      "1125899906842624\n",
      "1152921504606846976\n",
      "1208925819614629174706176\n",
      "1180591620717411303424\n"
     ]
    }
   ],
   "source": [
    "print(constants.kibi) #1024\n",
    "print(constants.mebi)\n",
    "print(constants.gibi)\n",
    "print(constants.tebi)\n",
    "print(constants.pebi)\n",
    "print(constants.exbi)\n",
    "print(constants.yobi)\n",
    "print(constants.zebi)\n"
   ]
  },
  {
   "cell_type": "markdown",
   "id": "b42eb12d",
   "metadata": {},
   "source": [
    "MASS"
   ]
  },
  {
   "cell_type": "code",
   "execution_count": 8,
   "id": "8e767822",
   "metadata": {},
   "outputs": [
    {
     "name": "stdout",
     "output_type": "stream",
     "text": [
      "0.001\n",
      "1000.0\n",
      "6.479891e-05\n",
      "0.45359236999999997\n",
      "0.45359236999999997\n",
      "0.028349523124999998\n",
      "0.028349523124999998\n",
      "6.3502931799999995\n",
      "1016.0469088\n",
      "907.1847399999999\n",
      "0.031103476799999998\n",
      "0.37324172159999996\n",
      "0.0002\n",
      "1.66053906892e-27\n",
      "1.66053906892e-27\n",
      "1.66053906892e-27\n",
      "9.1093837139e-31\n"
     ]
    }
   ],
   "source": [
    "print(constants.gram)\n",
    "print(constants.metric_ton)\n",
    "print(constants.grain)\n",
    "print(constants.lb)\n",
    "print(constants.pound)\n",
    "print(constants.oz)\n",
    "print(constants.ounce)\n",
    "print(constants.stone)\n",
    "print(constants.long_ton)\n",
    "print(constants.short_ton)\n",
    "print(constants.troy_ounce)\n",
    "print(constants.troy_pound)\n",
    "print(constants.carat)\n",
    "print(constants.atomic_mass)\n",
    "print(constants.m_u)\n",
    "print(constants.u)\n",
    "print(constants.m_e)"
   ]
  },
  {
   "cell_type": "markdown",
   "id": "39da10a1",
   "metadata": {},
   "source": [
    "ANGLE"
   ]
  },
  {
   "cell_type": "code",
   "execution_count": 9,
   "id": "e02820df",
   "metadata": {},
   "outputs": [
    {
     "name": "stdout",
     "output_type": "stream",
     "text": [
      "0.017453292519943295\n",
      "0.0002908882086657216\n",
      "0.0002908882086657216\n",
      "4.84813681109536e-06\n",
      "4.84813681109536e-06\n"
     ]
    }
   ],
   "source": [
    "print(constants.degree)\n",
    "print(constants.arcmin)\n",
    "print(constants.arcminute)\n",
    "print(constants.arcsec)\n",
    "print(constants.arcsecond)\n"
   ]
  },
  {
   "cell_type": "markdown",
   "id": "ac988d0e",
   "metadata": {},
   "source": [
    "TIME"
   ]
  },
  {
   "cell_type": "code",
   "execution_count": 11,
   "id": "58ac2535",
   "metadata": {},
   "outputs": [
    {
     "name": "stdout",
     "output_type": "stream",
     "text": [
      "60.0\n",
      "3600.0\n",
      "86400.0\n",
      "604800.0\n",
      "31536000.0\n",
      "31557600.0\n"
     ]
    }
   ],
   "source": [
    "print(constants.minute)\n",
    "print(constants.hour)\n",
    "print(constants.day)\n",
    "print(constants.week)\n",
    "print(constants.year)\n",
    "print(constants.Julian_year)\n"
   ]
  },
  {
   "cell_type": "markdown",
   "id": "bd175264",
   "metadata": {},
   "source": [
    "LENGTH"
   ]
  },
  {
   "cell_type": "code",
   "execution_count": 12,
   "id": "6f867b4a",
   "metadata": {},
   "outputs": [
    {
     "name": "stdout",
     "output_type": "stream",
     "text": [
      "0.0254\n",
      "0.30479999999999996\n",
      "0.9143999999999999\n",
      "1609.3439999999998\n",
      "2.5399999999999997e-05\n",
      "0.00035277777777777776\n",
      "0.00035277777777777776\n",
      "0.3048006096012192\n",
      "1609.3472186944373\n",
      "1852.0\n",
      "1e-15\n",
      "1e-10\n",
      "1e-06\n",
      "149597870700.0\n",
      "149597870700.0\n",
      "9460730472580800.0\n",
      "3.085677581491367e+16\n"
     ]
    }
   ],
   "source": [
    "print(constants.inch)\n",
    "print(constants.foot)\n",
    "print(constants.yard)\n",
    "print(constants.mile)\n",
    "print(constants.mil)\n",
    "print(constants.pt)\n",
    "print(constants.point)\n",
    "print(constants.survey_foot)\n",
    "print(constants.survey_mile)\n",
    "print(constants.nautical_mile)\n",
    "print(constants.fermi)\n",
    "print(constants.angstrom)\n",
    "print(constants.micron)\n",
    "print(constants.au)\n",
    "print(constants.astronomical_unit)\n",
    "print(constants.light_year)\n",
    "print(constants.parsec)\n"
   ]
  },
  {
   "cell_type": "markdown",
   "id": "e1ae4381",
   "metadata": {},
   "source": [
    "PRESSURE"
   ]
  },
  {
   "cell_type": "code",
   "execution_count": 13,
   "id": "c2c3aa43",
   "metadata": {},
   "outputs": [
    {
     "name": "stdout",
     "output_type": "stream",
     "text": [
      "101325.0\n",
      "101325.0\n",
      "100000.0\n",
      "133.32236842105263\n",
      "133.32236842105263\n",
      "6894.757293168361\n"
     ]
    }
   ],
   "source": [
    "print(constants.atm)\n",
    "print(constants.atmosphere)\n",
    "print(constants.bar)\n",
    "print(constants.torr)\n",
    "print(constants.mmHg)\n",
    "print(constants.psi)"
   ]
  },
  {
   "cell_type": "markdown",
   "id": "f57cc277",
   "metadata": {},
   "source": [
    "VOLUME"
   ]
  },
  {
   "cell_type": "code",
   "execution_count": 14,
   "id": "f1621ff4",
   "metadata": {},
   "outputs": [
    {
     "name": "stdout",
     "output_type": "stream",
     "text": [
      "0.001\n",
      "0.001\n",
      "0.0037854117839999997\n",
      "0.00454609\n",
      "0.0037854117839999997\n",
      "2.9573529562499998e-05\n",
      "2.9573529562499998e-05\n",
      "2.84130625e-05\n",
      "0.15898729492799998\n",
      "0.15898729492799998\n"
     ]
    }
   ],
   "source": [
    "print(constants.liter)\n",
    "print(constants.litre)\n",
    "print(constants.gallon)\n",
    "print(constants.gallon_imp)\n",
    "print(constants.gallon_US)\n",
    "print(constants.fluid_ounce)\n",
    "print(constants.fluid_ounce_US)\n",
    "print(constants.fluid_ounce_imp)\n",
    "print(constants.barrel)\n",
    "print(constants.bbl)"
   ]
  },
  {
   "cell_type": "markdown",
   "id": "69be7e29",
   "metadata": {},
   "source": [
    "SPEED"
   ]
  },
  {
   "cell_type": "code",
   "execution_count": 15,
   "id": "31b69d73",
   "metadata": {},
   "outputs": [
    {
     "name": "stdout",
     "output_type": "stream",
     "text": [
      "0.2777777777777778\n",
      "0.5144444444444445\n",
      "0.44703999999999994\n",
      "340.5\n",
      "340.5\n"
     ]
    }
   ],
   "source": [
    "print(constants.kmh)\n",
    "print(constants.knot)\n",
    "print(constants.mph)\n",
    "print(constants.mach)\n",
    "print(constants.speed_of_sound)"
   ]
  },
  {
   "cell_type": "markdown",
   "id": "57043f84",
   "metadata": {},
   "source": [
    "TEMPRATURE"
   ]
  },
  {
   "cell_type": "code",
   "execution_count": 16,
   "id": "299fc140",
   "metadata": {},
   "outputs": [
    {
     "name": "stdout",
     "output_type": "stream",
     "text": [
      "273.15\n",
      "0.5555555555555556\n"
     ]
    }
   ],
   "source": [
    "print(constants.zero_Celsius)\n",
    "print(constants.degree_Fahrenheit)"
   ]
  },
  {
   "cell_type": "markdown",
   "id": "eae4b422",
   "metadata": {},
   "source": [
    "ENERGY"
   ]
  },
  {
   "cell_type": "code",
   "execution_count": 17,
   "id": "c5b90874",
   "metadata": {},
   "outputs": [
    {
     "name": "stdout",
     "output_type": "stream",
     "text": [
      "1.602176634e-19\n",
      "1.602176634e-19\n",
      "4.184\n",
      "4.184\n",
      "4.1868\n",
      "1e-07\n",
      "1055.05585262\n",
      "1055.05585262\n",
      "1054.3502644888888\n",
      "4184000000.0\n"
     ]
    }
   ],
   "source": [
    "print(constants.eV)\n",
    "print(constants.electron_volt)\n",
    "print(constants.calorie)\n",
    "print(constants.calorie_th)\n",
    "print(constants.calorie_IT)\n",
    "print(constants.erg)\n",
    "print(constants.Btu)\n",
    "print(constants.Btu_IT)\n",
    "print(constants.Btu_th)\n",
    "print(constants.ton_TNT)"
   ]
  },
  {
   "cell_type": "markdown",
   "id": "1e2fa5c6",
   "metadata": {},
   "source": [
    "POWER"
   ]
  },
  {
   "cell_type": "code",
   "execution_count": 18,
   "id": "a57e8223",
   "metadata": {},
   "outputs": [
    {
     "name": "stdout",
     "output_type": "stream",
     "text": [
      "1e-05\n",
      "1e-05\n",
      "4.4482216152605\n",
      "4.4482216152605\n",
      "9.80665\n",
      "9.80665\n"
     ]
    }
   ],
   "source": [
    "print(constants.dyn)\n",
    "print(constants.dyne)\n",
    "print(constants.lbf)\n",
    "print(constants.pound_force)\n",
    "print(constants.kgf)\n",
    "print(constants.kilogram_force)"
   ]
  },
  {
   "cell_type": "markdown",
   "id": "957be571",
   "metadata": {},
   "source": [
    "~"
   ]
  }
 ],
 "metadata": {
  "kernelspec": {
   "display_name": "myfilepy",
   "language": "python",
   "name": "python3"
  },
  "language_info": {
   "codemirror_mode": {
    "name": "ipython",
    "version": 3
   },
   "file_extension": ".py",
   "mimetype": "text/x-python",
   "name": "python",
   "nbconvert_exporter": "python",
   "pygments_lexer": "ipython3",
   "version": "3.13.5"
  }
 },
 "nbformat": 4,
 "nbformat_minor": 5
}
