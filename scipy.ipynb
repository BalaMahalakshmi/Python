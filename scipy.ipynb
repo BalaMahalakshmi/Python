{
 "cells": [
  {
   "cell_type": "code",
   "execution_count": 2,
   "id": "325f85c4",
   "metadata": {},
   "outputs": [
    {
     "name": "stdout",
     "output_type": "stream",
     "text": [
      "1.16.0\n"
     ]
    }
   ],
   "source": [
    "import scipy\n",
    "print(scipy.__version__)"
   ]
  },
  {
   "cell_type": "markdown",
   "id": "ee66c27b",
   "metadata": {},
   "source": [
    "CONSTANT VALUE like pi"
   ]
  },
  {
   "cell_type": "code",
   "execution_count": 3,
   "id": "7290967c",
   "metadata": {},
   "outputs": [
    {
     "name": "stdout",
     "output_type": "stream",
     "text": [
      "3.141592653589793\n"
     ]
    }
   ],
   "source": [
    "from scipy import constants\n",
    "print(constants.pi)"
   ]
  },
  {
   "cell_type": "markdown",
   "id": "40b8da72",
   "metadata": {},
   "source": [
    "using dir() #gets all constant unit "
   ]
  },
  {
   "cell_type": "code",
   "execution_count": 4,
   "id": "ca7e9685",
   "metadata": {},
   "outputs": [
    {
     "name": "stdout",
     "output_type": "stream",
     "text": [
      "['Avogadro', 'Boltzmann', 'Btu', 'Btu_IT', 'Btu_th', 'ConstantWarning', 'G', 'Julian_year', 'N_A', 'Planck', 'R', 'Rydberg', 'Stefan_Boltzmann', 'Wien', '__all__', '__builtins__', '__cached__', '__doc__', '__file__', '__loader__', '__name__', '__package__', '__path__', '__spec__', '_codata', '_constants', '_obsolete_constants', 'acre', 'alpha', 'angstrom', 'arcmin', 'arcminute', 'arcsec', 'arcsecond', 'astronomical_unit', 'atm', 'atmosphere', 'atomic_mass', 'atto', 'au', 'bar', 'barrel', 'bbl', 'blob', 'c', 'calorie', 'calorie_IT', 'calorie_th', 'carat', 'centi', 'codata', 'constants', 'convert_temperature', 'day', 'deci', 'degree', 'degree_Fahrenheit', 'deka', 'dyn', 'dyne', 'e', 'eV', 'electron_mass', 'electron_volt', 'elementary_charge', 'epsilon_0', 'erg', 'exa', 'exbi', 'femto', 'fermi', 'find', 'fine_structure', 'fluid_ounce', 'fluid_ounce_US', 'fluid_ounce_imp', 'foot', 'g', 'gallon', 'gallon_US', 'gallon_imp', 'gas_constant', 'gibi', 'giga', 'golden', 'golden_ratio', 'grain', 'gram', 'gravitational_constant', 'h', 'hbar', 'hectare', 'hecto', 'horsepower', 'hour', 'hp', 'inch', 'k', 'kgf', 'kibi', 'kilo', 'kilogram_force', 'kmh', 'knot', 'lambda2nu', 'lb', 'lbf', 'light_year', 'liter', 'litre', 'long_ton', 'm_e', 'm_n', 'm_p', 'm_u', 'mach', 'mebi', 'mega', 'metric_ton', 'micro', 'micron', 'mil', 'mile', 'milli', 'minute', 'mmHg', 'mph', 'mu_0', 'nano', 'nautical_mile', 'neutron_mass', 'nu2lambda', 'ounce', 'oz', 'parsec', 'pebi', 'peta', 'physical_constants', 'pi', 'pico', 'point', 'pound', 'pound_force', 'precision', 'proton_mass', 'psi', 'pt', 'quecto', 'quetta', 'ronna', 'ronto', 'short_ton', 'sigma', 'slinch', 'slug', 'speed_of_light', 'speed_of_sound', 'stone', 'survey_foot', 'survey_mile', 'tebi', 'tera', 'test', 'ton_TNT', 'torr', 'troy_ounce', 'troy_pound', 'u', 'unit', 'value', 'week', 'yard', 'year', 'yobi', 'yocto', 'yotta', 'zebi', 'zepto', 'zero_Celsius', 'zetta']\n"
     ]
    }
   ],
   "source": [
    "print(dir(constants))"
   ]
  },
  {
   "cell_type": "markdown",
   "id": "4cbc66a3",
   "metadata": {},
   "source": [
    "#metrics (SI) prefixes"
   ]
  },
  {
   "cell_type": "code",
   "execution_count": 6,
   "id": "03c3569f",
   "metadata": {},
   "outputs": [
    {
     "name": "stdout",
     "output_type": "stream",
     "text": [
      "1e+24\n",
      "1e+21\n",
      "1e+18\n",
      "1000000000000000.0\n",
      "1000000000000.0\n",
      "1000000000.0\n",
      "1000000.0\n",
      "1000.0\n",
      "100.0\n",
      "10.0\n",
      "0.1\n",
      "0.01\n",
      "0.001\n",
      "1e-06\n",
      "1e-09\n",
      "1e-12\n",
      "1e-15\n",
      "1e-18\n",
      "1e-21\n"
     ]
    }
   ],
   "source": [
    "print(constants.yotta) #1e+24\n",
    "print(constants.zetta) #1e+21\n",
    "print(constants.exa) #1e+18\n",
    "print(constants.peta) #1000000000000000.0\n",
    "print(constants.tera) #10000000000000.0\n",
    "print(constants.giga) #1000000000.0\n",
    "print(constants.mega) #1000000.0\n",
    "print(constants.kilo) #1000.0\n",
    "print(constants.hecto) #100.0\n",
    "print(constants.deka) #10.0\n",
    "print(constants.deci) #0.1\n",
    "print(constants.centi) #0.01\n",
    "print(constants.milli) #0.001\n",
    "print(constants.micro) #1e-06\n",
    "print(constants.nano) #1e-09\n",
    "print(constants.pico) #1e-12\n",
    "print(constants.femto) #1e-15\n",
    "print(constants.atto) #1e-18\n",
    "print(constants.zepto) #1e-21\n"
   ]
  },
  {
   "cell_type": "markdown",
   "id": "92637168",
   "metadata": {},
   "source": [
    "#binary prefixes"
   ]
  },
  {
   "cell_type": "code",
   "execution_count": 7,
   "id": "e3bcc1ad",
   "metadata": {},
   "outputs": [
    {
     "name": "stdout",
     "output_type": "stream",
     "text": [
      "1024\n",
      "1048576\n",
      "1073741824\n",
      "1099511627776\n",
      "1125899906842624\n",
      "1152921504606846976\n",
      "1208925819614629174706176\n",
      "1180591620717411303424\n"
     ]
    }
   ],
   "source": [
    "print(constants.kibi) #1024\n",
    "print(constants.mebi)\n",
    "print(constants.gibi)\n",
    "print(constants.tebi)\n",
    "print(constants.pebi)\n",
    "print(constants.exbi)\n",
    "print(constants.yobi)\n",
    "print(constants.zebi)\n"
   ]
  },
  {
   "cell_type": "markdown",
   "id": "b42eb12d",
   "metadata": {},
   "source": [
    "MASS"
   ]
  },
  {
   "cell_type": "code",
   "execution_count": 8,
   "id": "8e767822",
   "metadata": {},
   "outputs": [
    {
     "name": "stdout",
     "output_type": "stream",
     "text": [
      "0.001\n",
      "1000.0\n",
      "6.479891e-05\n",
      "0.45359236999999997\n",
      "0.45359236999999997\n",
      "0.028349523124999998\n",
      "0.028349523124999998\n",
      "6.3502931799999995\n",
      "1016.0469088\n",
      "907.1847399999999\n",
      "0.031103476799999998\n",
      "0.37324172159999996\n",
      "0.0002\n",
      "1.66053906892e-27\n",
      "1.66053906892e-27\n",
      "1.66053906892e-27\n",
      "9.1093837139e-31\n"
     ]
    }
   ],
   "source": [
    "print(constants.gram)\n",
    "print(constants.metric_ton)\n",
    "print(constants.grain)\n",
    "print(constants.lb)\n",
    "print(constants.pound)\n",
    "print(constants.oz)\n",
    "print(constants.ounce)\n",
    "print(constants.stone)\n",
    "print(constants.long_ton)\n",
    "print(constants.short_ton)\n",
    "print(constants.troy_ounce)\n",
    "print(constants.troy_pound)\n",
    "print(constants.carat)\n",
    "print(constants.atomic_mass)\n",
    "print(constants.m_u)\n",
    "print(constants.u)\n",
    "print(constants.m_e)"
   ]
  },
  {
   "cell_type": "markdown",
   "id": "39da10a1",
   "metadata": {},
   "source": [
    "ANGLE"
   ]
  },
  {
   "cell_type": "code",
   "execution_count": 9,
   "id": "e02820df",
   "metadata": {},
   "outputs": [
    {
     "name": "stdout",
     "output_type": "stream",
     "text": [
      "0.017453292519943295\n",
      "0.0002908882086657216\n",
      "0.0002908882086657216\n",
      "4.84813681109536e-06\n",
      "4.84813681109536e-06\n"
     ]
    }
   ],
   "source": [
    "print(constants.degree)\n",
    "print(constants.arcmin)\n",
    "print(constants.arcminute)\n",
    "print(constants.arcsec)\n",
    "print(constants.arcsecond)\n"
   ]
  },
  {
   "cell_type": "markdown",
   "id": "ac988d0e",
   "metadata": {},
   "source": [
    "TIME"
   ]
  },
  {
   "cell_type": "code",
   "execution_count": 11,
   "id": "58ac2535",
   "metadata": {},
   "outputs": [
    {
     "name": "stdout",
     "output_type": "stream",
     "text": [
      "60.0\n",
      "3600.0\n",
      "86400.0\n",
      "604800.0\n",
      "31536000.0\n",
      "31557600.0\n"
     ]
    }
   ],
   "source": [
    "print(constants.minute)\n",
    "print(constants.hour)\n",
    "print(constants.day)\n",
    "print(constants.week)\n",
    "print(constants.year)\n",
    "print(constants.Julian_year)\n"
   ]
  },
  {
   "cell_type": "markdown",
   "id": "bd175264",
   "metadata": {},
   "source": [
    "LENGTH"
   ]
  },
  {
   "cell_type": "code",
   "execution_count": 12,
   "id": "6f867b4a",
   "metadata": {},
   "outputs": [
    {
     "name": "stdout",
     "output_type": "stream",
     "text": [
      "0.0254\n",
      "0.30479999999999996\n",
      "0.9143999999999999\n",
      "1609.3439999999998\n",
      "2.5399999999999997e-05\n",
      "0.00035277777777777776\n",
      "0.00035277777777777776\n",
      "0.3048006096012192\n",
      "1609.3472186944373\n",
      "1852.0\n",
      "1e-15\n",
      "1e-10\n",
      "1e-06\n",
      "149597870700.0\n",
      "149597870700.0\n",
      "9460730472580800.0\n",
      "3.085677581491367e+16\n"
     ]
    }
   ],
   "source": [
    "print(constants.inch)\n",
    "print(constants.foot)\n",
    "print(constants.yard)\n",
    "print(constants.mile)\n",
    "print(constants.mil)\n",
    "print(constants.pt)\n",
    "print(constants.point)\n",
    "print(constants.survey_foot)\n",
    "print(constants.survey_mile)\n",
    "print(constants.nautical_mile)\n",
    "print(constants.fermi)\n",
    "print(constants.angstrom)\n",
    "print(constants.micron)\n",
    "print(constants.au)\n",
    "print(constants.astronomical_unit)\n",
    "print(constants.light_year)\n",
    "print(constants.parsec)\n"
   ]
  },
  {
   "cell_type": "markdown",
   "id": "e1ae4381",
   "metadata": {},
   "source": [
    "PRESSURE"
   ]
  },
  {
   "cell_type": "code",
   "execution_count": 13,
   "id": "c2c3aa43",
   "metadata": {},
   "outputs": [
    {
     "name": "stdout",
     "output_type": "stream",
     "text": [
      "101325.0\n",
      "101325.0\n",
      "100000.0\n",
      "133.32236842105263\n",
      "133.32236842105263\n",
      "6894.757293168361\n"
     ]
    }
   ],
   "source": [
    "print(constants.atm)\n",
    "print(constants.atmosphere)\n",
    "print(constants.bar)\n",
    "print(constants.torr)\n",
    "print(constants.mmHg)\n",
    "print(constants.psi)"
   ]
  },
  {
   "cell_type": "markdown",
   "id": "f57cc277",
   "metadata": {},
   "source": [
    "VOLUME"
   ]
  },
  {
   "cell_type": "code",
   "execution_count": 14,
   "id": "f1621ff4",
   "metadata": {},
   "outputs": [
    {
     "name": "stdout",
     "output_type": "stream",
     "text": [
      "0.001\n",
      "0.001\n",
      "0.0037854117839999997\n",
      "0.00454609\n",
      "0.0037854117839999997\n",
      "2.9573529562499998e-05\n",
      "2.9573529562499998e-05\n",
      "2.84130625e-05\n",
      "0.15898729492799998\n",
      "0.15898729492799998\n"
     ]
    }
   ],
   "source": [
    "print(constants.liter)\n",
    "print(constants.litre)\n",
    "print(constants.gallon)\n",
    "print(constants.gallon_imp)\n",
    "print(constants.gallon_US)\n",
    "print(constants.fluid_ounce)\n",
    "print(constants.fluid_ounce_US)\n",
    "print(constants.fluid_ounce_imp)\n",
    "print(constants.barrel)\n",
    "print(constants.bbl)"
   ]
  },
  {
   "cell_type": "markdown",
   "id": "69be7e29",
   "metadata": {},
   "source": [
    "SPEED"
   ]
  },
  {
   "cell_type": "code",
   "execution_count": 15,
   "id": "31b69d73",
   "metadata": {},
   "outputs": [
    {
     "name": "stdout",
     "output_type": "stream",
     "text": [
      "0.2777777777777778\n",
      "0.5144444444444445\n",
      "0.44703999999999994\n",
      "340.5\n",
      "340.5\n"
     ]
    }
   ],
   "source": [
    "print(constants.kmh)\n",
    "print(constants.knot)\n",
    "print(constants.mph)\n",
    "print(constants.mach)\n",
    "print(constants.speed_of_sound)"
   ]
  },
  {
   "cell_type": "markdown",
   "id": "57043f84",
   "metadata": {},
   "source": [
    "TEMPRATURE"
   ]
  },
  {
   "cell_type": "code",
   "execution_count": 16,
   "id": "299fc140",
   "metadata": {},
   "outputs": [
    {
     "name": "stdout",
     "output_type": "stream",
     "text": [
      "273.15\n",
      "0.5555555555555556\n"
     ]
    }
   ],
   "source": [
    "print(constants.zero_Celsius)\n",
    "print(constants.degree_Fahrenheit)"
   ]
  },
  {
   "cell_type": "markdown",
   "id": "eae4b422",
   "metadata": {},
   "source": [
    "ENERGY"
   ]
  },
  {
   "cell_type": "code",
   "execution_count": 17,
   "id": "c5b90874",
   "metadata": {},
   "outputs": [
    {
     "name": "stdout",
     "output_type": "stream",
     "text": [
      "1.602176634e-19\n",
      "1.602176634e-19\n",
      "4.184\n",
      "4.184\n",
      "4.1868\n",
      "1e-07\n",
      "1055.05585262\n",
      "1055.05585262\n",
      "1054.3502644888888\n",
      "4184000000.0\n"
     ]
    }
   ],
   "source": [
    "print(constants.eV)\n",
    "print(constants.electron_volt)\n",
    "print(constants.calorie)\n",
    "print(constants.calorie_th)\n",
    "print(constants.calorie_IT)\n",
    "print(constants.erg)\n",
    "print(constants.Btu)\n",
    "print(constants.Btu_IT)\n",
    "print(constants.Btu_th)\n",
    "print(constants.ton_TNT)"
   ]
  },
  {
   "cell_type": "markdown",
   "id": "1e2fa5c6",
   "metadata": {},
   "source": [
    "POWER"
   ]
  },
  {
   "cell_type": "code",
   "execution_count": 18,
   "id": "a57e8223",
   "metadata": {},
   "outputs": [
    {
     "name": "stdout",
     "output_type": "stream",
     "text": [
      "1e-05\n",
      "1e-05\n",
      "4.4482216152605\n",
      "4.4482216152605\n",
      "9.80665\n",
      "9.80665\n"
     ]
    }
   ],
   "source": [
    "print(constants.dyn)\n",
    "print(constants.dyne)\n",
    "print(constants.lbf)\n",
    "print(constants.pound_force)\n",
    "print(constants.kgf)\n",
    "print(constants.kilogram_force)"
   ]
  },
  {
   "cell_type": "markdown",
   "id": "957be571",
   "metadata": {},
   "source": [
    "OPTIMIZERS #find min. value of a function or root of an equatiion."
   ]
  },
  {
   "cell_type": "code",
   "execution_count": 22,
   "id": "af17737b",
   "metadata": {},
   "outputs": [
    {
     "name": "stdout",
     "output_type": "stream",
     "text": [
      "[-0.73908513]\n"
     ]
    },
    {
     "name": "stderr",
     "output_type": "stream",
     "text": [
      "C:\\Users\\balam\\AppData\\Local\\Temp\\ipykernel_8280\\2019781618.py:4: DeprecationWarning: Conversion of an array with ndim > 0 to a scalar is deprecated, and will error in future. Ensure you extract a single element from your array before performing this operation. (Deprecated NumPy 1.25.)\n",
      "  return x + cos(x)\n"
     ]
    }
   ],
   "source": [
    "from scipy.optimize import root\n",
    "from math import cos\n",
    "def eqn(x):\n",
    "    return x + cos(x)\n",
    "myroot = root(eqn,1)\n",
    "print(myroot.x)"
   ]
  },
  {
   "cell_type": "markdown",
   "id": "7c5c7858",
   "metadata": {},
   "source": [
    "find info about not just x but the whole root"
   ]
  },
  {
   "cell_type": "code",
   "execution_count": 23,
   "id": "5bc1d875",
   "metadata": {},
   "outputs": [
    {
     "name": "stdout",
     "output_type": "stream",
     "text": [
      " message: The solution converged.\n",
      " success: True\n",
      "  status: 1\n",
      "     fun: [ 0.000e+00]\n",
      "       x: [-7.391e-01]\n",
      "  method: hybr\n",
      "    nfev: 13\n",
      "    fjac: [[-1.000e+00]]\n",
      "       r: [-1.674e+00]\n",
      "     qtf: [ 2.576e-13]\n"
     ]
    },
    {
     "name": "stderr",
     "output_type": "stream",
     "text": [
      "C:\\Users\\balam\\AppData\\Local\\Temp\\ipykernel_8280\\1253244746.py:4: DeprecationWarning: Conversion of an array with ndim > 0 to a scalar is deprecated, and will error in future. Ensure you extract a single element from your array before performing this operation. (Deprecated NumPy 1.25.)\n",
      "  return x + cos(x)\n"
     ]
    }
   ],
   "source": [
    "from scipy.optimize import root\n",
    "from math import cos\n",
    "def eqn(x):\n",
    "    return x + cos(x)\n",
    "myroot = root(eqn,1)\n",
    "print(myroot)"
   ]
  },
  {
   "cell_type": "markdown",
   "id": "a4f46a47",
   "metadata": {},
   "source": [
    "#minimizing the fun. or data"
   ]
  },
  {
   "cell_type": "code",
   "execution_count": 25,
   "id": "e4b2c255",
   "metadata": {},
   "outputs": [
    {
     "name": "stdout",
     "output_type": "stream",
     "text": [
      "  message: Optimization terminated successfully.\n",
      "  success: True\n",
      "   status: 0\n",
      "      fun: 1.75\n",
      "        x: [-5.000e-01]\n",
      "      nit: 2\n",
      "      jac: [ 0.000e+00]\n",
      " hess_inv: [[ 5.000e-01]]\n",
      "     nfev: 8\n",
      "     njev: 4\n"
     ]
    }
   ],
   "source": [
    "from scipy.optimize import minimize\n",
    "def eqn(x):\n",
    "    return x**2 + x + 2\n",
    "mymin = minimize(eqn,0,method='BFGS')\n",
    "print(mymin)"
   ]
  },
  {
   "cell_type": "markdown",
   "id": "6d3176aa",
   "metadata": {},
   "source": [
    "SPARSE DATA"
   ]
  },
  {
   "cell_type": "code",
   "execution_count": 1,
   "id": "d68e075a",
   "metadata": {},
   "outputs": [
    {
     "name": "stdout",
     "output_type": "stream",
     "text": [
      "<Compressed Sparse Row sparse matrix of dtype 'int64'\n",
      "\twith 3 stored elements and shape (1, 9)>\n",
      "  Coords\tValues\n",
      "  (0, 5)\t1\n",
      "  (0, 6)\t1\n",
      "  (0, 8)\t2\n"
     ]
    }
   ],
   "source": [
    "import numpy as np\n",
    "from scipy.sparse import csr_matrix\n",
    "shared = np.array([0,0,0,0,0,1,1,0,2])\n",
    "print(csr_matrix(shared))"
   ]
  },
  {
   "cell_type": "markdown",
   "id": "7e852347",
   "metadata": {},
   "source": [
    "sparse matrix methods"
   ]
  },
  {
   "cell_type": "code",
   "execution_count": 3,
   "id": "41d6f070",
   "metadata": {},
   "outputs": [
    {
     "name": "stdout",
     "output_type": "stream",
     "text": [
      "[1 1 2]\n"
     ]
    }
   ],
   "source": [
    "import numpy as np\n",
    "from scipy.sparse import csr_matrix\n",
    "shared = np.array([[0,0,0,],[0,0,1],[1,0,2]])\n",
    "print(csr_matrix(shared).data)"
   ]
  },
  {
   "cell_type": "markdown",
   "id": "e97d88bc",
   "metadata": {},
   "source": [
    "want to count nonzero elements , # use count_nonzeros() method"
   ]
  },
  {
   "cell_type": "code",
   "execution_count": 5,
   "id": "ed8f28c5",
   "metadata": {},
   "outputs": [
    {
     "name": "stdout",
     "output_type": "stream",
     "text": [
      "3\n"
     ]
    }
   ],
   "source": [
    "import numpy as np\n",
    "from scipy.sparse import csr_matrix\n",
    "shared = np.array([[0,0,0,],[0,0,1],[1,0,2]])\n",
    "print(csr_matrix(shared).count_nonzero())"
   ]
  },
  {
   "cell_type": "markdown",
   "id": "b029ca72",
   "metadata": {},
   "source": [
    "use eliminate_zeros()  #removing zero elements from the matrix"
   ]
  },
  {
   "cell_type": "code",
   "execution_count": 7,
   "id": "33d20ec3",
   "metadata": {},
   "outputs": [
    {
     "name": "stdout",
     "output_type": "stream",
     "text": [
      "<Compressed Sparse Row sparse matrix of dtype 'int64'\n",
      "\twith 3 stored elements and shape (3, 3)>\n",
      "  Coords\tValues\n",
      "  (1, 2)\t1\n",
      "  (2, 0)\t1\n",
      "  (2, 2)\t2\n"
     ]
    }
   ],
   "source": [
    "import numpy as np\n",
    "from scipy.sparse import csr_matrix\n",
    "shared = np.array([[0,0,0,],[0,0,1],[1,0,2]])\n",
    "sharednew = csr_matrix(shared)\n",
    "sharednew.eliminate_zeros()\n",
    "print(sharednew)"
   ]
  },
  {
   "cell_type": "markdown",
   "id": "190872a7",
   "metadata": {},
   "source": [
    "eliminating duplicates entries  # use sum_duplicates()"
   ]
  },
  {
   "cell_type": "code",
   "execution_count": 11,
   "id": "95612100",
   "metadata": {},
   "outputs": [
    {
     "name": "stdout",
     "output_type": "stream",
     "text": [
      "<Compressed Sparse Row sparse matrix of dtype 'int64'\n",
      "\twith 6 stored elements and shape (3, 4)>\n",
      "  Coords\tValues\n",
      "  (0, 3)\t1\n",
      "  (1, 0)\t1\n",
      "  (1, 3)\t1\n",
      "  (2, 0)\t1\n",
      "  (2, 2)\t1\n",
      "  (2, 3)\t2\n"
     ]
    }
   ],
   "source": [
    "import numpy as np\n",
    "from scipy.sparse import csr_matrix\n",
    "shared = np.array([[0,0,0,1],[1,0,0,1],[1,0,1,2]])\n",
    "sharednew = csr_matrix(shared)\n",
    "sharednew.sum_duplicates()\n",
    "print(sharednew)"
   ]
  },
  {
   "cell_type": "markdown",
   "id": "68a26971",
   "metadata": {},
   "source": [
    "#convert csr to csc with the \"tocsc()\""
   ]
  },
  {
   "cell_type": "code",
   "execution_count": 12,
   "id": "1f910140",
   "metadata": {},
   "outputs": [
    {
     "name": "stdout",
     "output_type": "stream",
     "text": [
      "<Compressed Sparse Column sparse matrix of dtype 'int64'\n",
      "\twith 6 stored elements and shape (3, 4)>\n",
      "  Coords\tValues\n",
      "  (1, 0)\t1\n",
      "  (2, 0)\t1\n",
      "  (2, 2)\t1\n",
      "  (0, 3)\t1\n",
      "  (1, 3)\t1\n",
      "  (2, 3)\t2\n"
     ]
    }
   ],
   "source": [
    "from scipy.sparse import csr_matrix\n",
    "shared = np.array([[0,0,0,1],[1,0,0,1],[1,0,1,2]])\n",
    "sharednew = csr_matrix(shared).tocsc()\n",
    "print(sharednew)"
   ]
  },
  {
   "cell_type": "markdown",
   "id": "86949ed1",
   "metadata": {},
   "source": [
    "#working with graph ,=> use sparse.csgraph()"
   ]
  },
  {
   "cell_type": "code",
   "execution_count": null,
   "id": "9b0f4bf5",
   "metadata": {},
   "outputs": [
    {
     "name": "stdout",
     "output_type": "stream",
     "text": [
      "(1, array([0, 0, 0], dtype=int32))\n"
     ]
    }
   ],
   "source": [
    "import numpy as np\n",
    "from scipy.sparse.csgraph import connected_components\n",
    "from scipy.sparse import csr_matrix\n",
    "shared = np.array([[0,1,2],[1,0,0],[2,0,0]])\n",
    "sharednew = csr_matrix(shared)\n",
    "print(connected_components(sharednew))"
   ]
  },
  {
   "cell_type": "markdown",
   "id": "aa28ec9c",
   "metadata": {},
   "source": [
    "Dijikstra #finding shortest path in a graph from one element to another"
   ]
  },
  {
   "cell_type": "code",
   "execution_count": 4,
   "id": "abbb5993",
   "metadata": {},
   "outputs": [
    {
     "name": "stdout",
     "output_type": "stream",
     "text": [
      "(array([0., 1., 2.]), array([-9999,     0,     0], dtype=int32))\n"
     ]
    }
   ],
   "source": [
    "from scipy.sparse.csgraph import dijkstra\n",
    "from scipy.sparse import csr_matrix\n",
    "shared = np.array([[0,1,2],[1,0,0],[2,0,0]])\n",
    "sharednew = csr_matrix(shared)\n",
    "print(dijkstra(sharednew, return_predecessors=True, indices=0))"
   ]
  },
  {
   "cell_type": "markdown",
   "id": "3160fa1b",
   "metadata": {},
   "source": [
    "Floyd_warshall #finding the shortest path between all pair of elements"
   ]
  },
  {
   "cell_type": "code",
   "execution_count": 5,
   "id": "54559e7a",
   "metadata": {},
   "outputs": [
    {
     "name": "stdout",
     "output_type": "stream",
     "text": [
      "(array([[0., 1., 2.],\n",
      "       [1., 0., 3.],\n",
      "       [2., 3., 0.]]), array([[-9999,     0,     0],\n",
      "       [    1, -9999,     0],\n",
      "       [    2,     0, -9999]], dtype=int32))\n"
     ]
    }
   ],
   "source": [
    "from scipy.sparse.csgraph import floyd_warshall\n",
    "from scipy.sparse import csr_matrix\n",
    "shared = np.array([[0,1,2],[1,0,0],[2,0,0]])\n",
    "sharednew = csr_matrix(shared)\n",
    "print(floyd_warshall(sharednew, return_predecessors=True))"
   ]
  },
  {
   "cell_type": "markdown",
   "id": "ccfc5051",
   "metadata": {},
   "source": [
    "Bellman_ford #finding the shotest path between all pair of elements but can handle negative value also."
   ]
  },
  {
   "cell_type": "code",
   "execution_count": 9,
   "id": "9e38d4dc",
   "metadata": {},
   "outputs": [
    {
     "name": "stdout",
     "output_type": "stream",
     "text": [
      "(array([ 0., -1.,  2.]), array([-9999,     0,     0], dtype=int32))\n"
     ]
    }
   ],
   "source": [
    "from scipy.sparse.csgraph import bellman_ford\n",
    "from scipy.sparse import csr_matrix\n",
    "shared = np.array([[0,-1,2],[1,0,0],[-2,0,0]])\n",
    "sharednew = csr_matrix(shared)\n",
    "print(bellman_ford(sharednew, return_predecessors=True, indices=0))"
   ]
  },
  {
   "cell_type": "markdown",
   "id": "d4d2f5d7",
   "metadata": {},
   "source": [
    "Depth_first_order #returns a depth first traversal from a node"
   ]
  },
  {
   "cell_type": "code",
   "execution_count": null,
   "id": "e1ad4c36",
   "metadata": {},
   "outputs": [
    {
     "name": "stdout",
     "output_type": "stream",
     "text": [
      "(array([1, 0, 3, 2], dtype=int32), array([    1, -9999,     1,     0], dtype=int32))\n"
     ]
    }
   ],
   "source": [
    "from scipy.sparse.csgraph import depth_first_order\n",
    "from scipy.sparse import csr_matrix\n",
    "shared = np.array([[0,1,0,1],[1,1,1,1],[2,1,1,0],[0,1,0,1 ]])\n",
    "sharednew = csr_matrix(shared)\n",
    "print(depth_first_order(sharednew, 1))"
   ]
  },
  {
   "cell_type": "markdown",
   "id": "5c28161d",
   "metadata": {},
   "source": [
    "Breadth_first_order #returns breadth from a node "
   ]
  },
  {
   "cell_type": "code",
   "execution_count": 11,
   "id": "d1015a93",
   "metadata": {},
   "outputs": [
    {
     "name": "stdout",
     "output_type": "stream",
     "text": [
      "(array([1, 0, 2, 3], dtype=int32), array([    1, -9999,     1,     1], dtype=int32))\n"
     ]
    }
   ],
   "source": [
    "from scipy.sparse.csgraph import breadth_first_order\n",
    "from scipy.sparse import csr_matrix\n",
    "shared = np.array([[0,1,0,1],[1,1,1,1],[2,1,1,0],[0,1,0,1 ]])\n",
    "sharednew = csr_matrix(shared)\n",
    "print(breadth_first_order(sharednew, 1))"
   ]
  },
  {
   "cell_type": "markdown",
   "id": "2953e8ec",
   "metadata": {},
   "source": [
    "working with SPATIAL DATA #represented gepmentric space using Delaunay()"
   ]
  },
  {
   "cell_type": "code",
   "execution_count": null,
   "id": "ebf63f61",
   "metadata": {},
   "outputs": [
    {
     "data": {
      "image/png": "[encoded data removed]",
      "text/plain": [
       "<Figure size 640x480 with 1 Axes>"
      ]
     },
     "metadata": {},
     "output_type": "display_data"
    }
   ],
   "source": [
    "import numpy as np\n",
    "from scipy.spatial import Delaunay\n",
    "import matplotlib.pyplot as plt\n",
    "shared = np.array([[2,4],[3,4],[3,0],[2,2],[4,1]])\n",
    "simplices = Delaunay(shared).simplices\n",
    "plt.triplot(shared[:,0],shared[:,1],simplices)\n",
    "plt.scatter(shared[:,0],shared[:,1], color='r')\n",
    "plt.show()\n"
   ]
  },
  {
   "cell_type": "markdown",
   "id": "62fabc56",
   "metadata": {},
   "source": [
    "CONVEX HULL #smallest polygon that converts all of the given points"
   ]
  },
  {
   "cell_type": "code",
   "execution_count": 14,
   "id": "07c739a5",
   "metadata": {},
   "outputs": [
    {
     "data": {
      "image/png": "[encoded data removed]",
      "text/plain": [
       "<Figure size 640x480 with 1 Axes>"
      ]
     },
     "metadata": {},
     "output_type": "display_data"
    }
   ],
   "source": [
    "from scipy.spatial import ConvexHull\n",
    "shared = np.array([[2,4],[3,4],[3,0],[2,2],[4,1],[1,2],[5,0],[3,1],[1,2],[0,2]])\n",
    "hull = ConvexHull(shared)\n",
    "hull_points = hull.simplices\n",
    "plt.scatter(shared[:,0], shared[:,1])\n",
    "for i in hull_points:\n",
    "    plt.plot(shared[i,0], shared[i,1], 'k-')\n",
    "plt.show()"
   ]
  },
  {
   "cell_type": "markdown",
   "id": "99bcffe5",
   "metadata": {},
   "source": [
    "KDTree #data structures optimized for the nearest neighbour queries"
   ]
  },
  {
   "cell_type": "code",
   "execution_count": 16,
   "id": "4a56a2a1",
   "metadata": {},
   "outputs": [
    {
     "name": "stdout",
     "output_type": "stream",
     "text": [
      "(2.0, np.int64(0))\n"
     ]
    }
   ],
   "source": [
    "from scipy.spatial import KDTree\n",
    "shared = [(1,-1),(2,3),(-2,3),(2,-3)]\n",
    "tree = KDTree(shared)\n",
    "res = tree.query((1,1))\n",
    "print(res)"
   ]
  },
  {
   "cell_type": "markdown",
   "id": "16bcd6fb",
   "metadata": {},
   "source": [
    "DISTANCE MATRIX #find the various types  of distance between 2 points. using euclidean distance and cosine distance"
   ]
  },
  {
   "cell_type": "code",
   "execution_count": null,
   "id": "be010862",
   "metadata": {},
   "outputs": [
    {
     "name": "stdout",
     "output_type": "stream",
     "text": [
      "9.219544457292887\n"
     ]
    }
   ],
   "source": [
    "#Euclidean distance\n",
    "from scipy.spatial.distance import euclidean\n",
    "p1 = (1,0)\n",
    "p2 = (10,2)\n",
    "shared = euclidean(p1,p2)\n",
    "print(shared)"
   ]
  },
  {
   "cell_type": "code",
   "execution_count": 20,
   "id": "316ac86c",
   "metadata": {},
   "outputs": [
    {
     "name": "stdout",
     "output_type": "stream",
     "text": [
      "0.019419324309079777\n"
     ]
    }
   ],
   "source": [
    "#cosine distance\n",
    "from scipy.spatial.distance import cosine\n",
    "p1 = (1,0)\n",
    "p2 = (10,2)\n",
    "shared = cosine(p1,p2)\n",
    "print(shared)\n"
   ]
  },
  {
   "cell_type": "markdown",
   "id": "6f7c0f63",
   "metadata": {},
   "source": [
    "MATLAB ARRAYS #exporting the data in matlab format, coverting or exporting data we use savemat() , it have 3 parameter filename, mdict,do_compression"
   ]
  },
  {
   "cell_type": "code",
   "execution_count": null,
   "id": "d4b6ec0b",
   "metadata": {},
   "outputs": [],
   "source": [
    "from scipy import io\n",
    "import numpy as np\n",
    "shared = np.arange(10)\n",
    "io.savemat('shared.mat',{'vec': shared}) #creating a file shared.mat"
   ]
  },
  {
   "cell_type": "markdown",
   "id": "23ea9988",
   "metadata": {},
   "source": [
    "#here import the existing mat file , it have 1 paramter that is 'filename' and use loadmat()"
   ]
  },
  {
   "cell_type": "code",
   "execution_count": 22,
   "id": "4b635c84",
   "metadata": {},
   "outputs": [
    {
     "name": "stdout",
     "output_type": "stream",
     "text": [
      "{'__header__': b'MATLAB 5.0 MAT-file Platform: nt, Created on: Thu Jul 10 14:00:09 2025', '__version__': '1.0', '__globals__': [], 'vec': array([[0, 1, 2, 3, 4, 5, 6, 7, 8, 9]])}\n"
     ]
    }
   ],
   "source": [
    "from scipy import io\n",
    "shared = np.array([0,1,2,3,4,5,6,7,8,9])\n",
    "io.savemat('shared.mat',{'vec': shared})\n",
    "sharednew = io.loadmat('shared.mat')\n",
    "print(sharednew)"
   ]
  },
  {
   "cell_type": "markdown",
   "id": "71044697",
   "metadata": {},
   "source": [
    "particularly use vaiable name 'vec'"
   ]
  },
  {
   "cell_type": "code",
   "execution_count": 23,
   "id": "d50a8dd2",
   "metadata": {},
   "outputs": [
    {
     "name": "stdout",
     "output_type": "stream",
     "text": [
      "[[0 1 2 3 4 5 6 7 8 9]]\n"
     ]
    }
   ],
   "source": [
    "from scipy import io\n",
    "shared = np.array([0,1,2,3,4,5,6,7,8,9])\n",
    "io.savemat('shared.mat',{'vec': shared})\n",
    "sharednew = io.loadmat('shared.mat')\n",
    "print(sharednew['vec'])"
   ]
  },
  {
   "cell_type": "markdown",
   "id": "a404a3c0",
   "metadata": {},
   "source": [
    "use squeeze_me = true ,it eliminating the  1[]"
   ]
  },
  {
   "cell_type": "code",
   "execution_count": 24,
   "id": "bc993666",
   "metadata": {},
   "outputs": [
    {
     "name": "stdout",
     "output_type": "stream",
     "text": [
      "[0 1 2 3 4 5 6 7 8 9]\n"
     ]
    }
   ],
   "source": [
    "from scipy import io\n",
    "shared = np.array([0,1,2,3,4,5,6,7,8,9])\n",
    "io.savemat('shared.mat',{'vec': shared})\n",
    "sharednew = io.loadmat('shared.mat', squeeze_me = True)\n",
    "print(sharednew['vec'])"
   ]
  },
  {
   "cell_type": "markdown",
   "id": "9e56536a",
   "metadata": {},
   "source": [
    "INTERPOLATION #generating pooints between the given points, method of the filling the value called imputation"
   ]
  },
  {
   "cell_type": "code",
   "execution_count": 2,
   "id": "90fe243f",
   "metadata": {},
   "outputs": [
    {
     "name": "stdout",
     "output_type": "stream",
     "text": [
      "[5.2 5.4 5.6 5.8 6.  6.2 6.4 6.6 6.8]\n"
     ]
    }
   ],
   "source": [
    "from scipy.interpolate import interp1d\n",
    "import numpy as np\n",
    "xs = np.arange(10)\n",
    "ys = 2* xs + 1\n",
    "i_f =interp1d(xs,ys)\n",
    "shared = i_f(np.arange(2.1,3,0.1))\n",
    "print(shared)"
   ]
  },
  {
   "cell_type": "markdown",
   "id": "bf28a06e",
   "metadata": {},
   "source": [
    "spline interpolation #use univariatespline"
   ]
  },
  {
   "cell_type": "code",
   "execution_count": 3,
   "id": "3afebff4",
   "metadata": {},
   "outputs": [
    {
     "name": "stdout",
     "output_type": "stream",
     "text": [
      "[5.62826474 6.03987348 6.47131994 6.92265019 7.3939103  7.88514634\n",
      " 8.39640439 8.92773053 9.47917082]\n"
     ]
    }
   ],
   "source": [
    "from scipy.interpolate import UnivariateSpline\n",
    "import numpy as np\n",
    "xs = np.arange(10)\n",
    "ys = xs** 2+ np.sin(xs) + 1\n",
    "i_f = UnivariateSpline(xs,ys)\n",
    "shared = i_f(np.arange(2.1,3,0.1))\n",
    "print(shared)"
   ]
  },
  {
   "cell_type": "markdown",
   "id": "c54fdf70",
   "metadata": {},
   "source": [
    "Interpolate with RADIAL BASIS FUNCTION (RBF)"
   ]
  },
  {
   "cell_type": "code",
   "execution_count": 5,
   "id": "391b4c5a",
   "metadata": {},
   "outputs": [
    {
     "name": "stdout",
     "output_type": "stream",
     "text": [
      "[6.25748981 6.62190817 7.00310702 7.40121814 7.8161443  8.24773402\n",
      " 8.69590519 9.16070828 9.64233874]\n"
     ]
    }
   ],
   "source": [
    "from scipy.interpolate import Rbf\n",
    "import numpy as np\n",
    "xs = np.arange(10)\n",
    "ys = xs** 2+ np.sin(xs) + 1\n",
    "i_f =Rbf(xs,ys)\n",
    "shared = i_f(np.arange(2.1,3,0.1))\n",
    "print(shared)"
   ]
  },
  {
   "cell_type": "code",
   "execution_count": 18,
   "id": "fbaff810",
   "metadata": {},
   "outputs": [
    {
     "data": {
      "image/png": "[encoded data removed]",
      "text/plain": [
       "<Figure size 640x480 with 1 Axes>"
      ]
     },
     "metadata": {},
     "output_type": "display_data"
    }
   ],
   "source": [
    "import numpy as np\n",
    "import matplotlib.pyplot as plt\n",
    "from scipy.spatial import Delaunay\n",
    "np.random.seed([0])\n",
    "x = np.random.rand(20)\n",
    "y = np.random.rand(20)\n",
    "p = np.vstack((x,y)).T\n",
    "DT = Delaunay(p)\n",
    "plt.triplot(x, y, DT.simplices)\n",
    "plt.plot(x, y, 'o')  # plot points\n",
    "plt.title(\"Delaunay triangulation\")\n",
    "plt.show()"
   ]
  },
  {
   "cell_type": "markdown",
   "id": "d92881e7",
   "metadata": {},
   "source": [
    "creating a voice recorder"
   ]
  },
  {
   "cell_type": "code",
   "execution_count": 8,
   "id": "9892eeee",
   "metadata": {},
   "outputs": [
    {
     "name": "stdout",
     "output_type": "stream",
     "text": [
      "Recording Started.....\n",
      "Recording is Finished!\n"
     ]
    }
   ],
   "source": [
    "import sounddevice\n",
    "from scipy.io.wavfile import write\n",
    "def sharedvoice_recorder(seconds, file):\n",
    "    print(\"Recording Started.....\")\n",
    "    sharedrecording = sounddevice.rec((seconds * 44100), samplerate = 44100, channels = 2)\n",
    "    sounddevice.wait()\n",
    "    write(file, 44100, sharedrecording)\n",
    "    print(\"Recording is Finished!\")\n",
    "sharedvoice_recorder(10,'recordsave.wav')\n"
   ]
  }
 ],
 "metadata": {
  "kernelspec": {
   "display_name": "myfilepy",
   "language": "python",
   "name": "python3"
  },
  "language_info": {
   "codemirror_mode": {
    "name": "ipython",
    "version": 3
   },
   "file_extension": ".py",
   "mimetype": "text/x-python",
   "name": "python",
   "nbconvert_exporter": "python",
   "pygments_lexer": "ipython3",
   "version": "3.13.5"
  }
 },
 "nbformat": 4,
 "nbformat_minor": 5
}
